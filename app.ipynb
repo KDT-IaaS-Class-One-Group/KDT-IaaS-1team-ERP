{
 "cells": [
  {
   "cell_type": "code",
   "execution_count": 1,
   "metadata": {},
   "outputs": [
    {
     "name": "stdout",
     "output_type": "stream",
     "text": [
      "서버가 http://localhost:3213/ 에서 실행 중입니다.\n"
     ]
    },
    {
     "name": "stderr",
     "output_type": "stream",
     "text": [
      "127.0.0.1 - - [28/Dec/2023 18:03:31] \"GET / HTTP/1.1\" 200 -\n",
      "127.0.0.1 - - [28/Dec/2023 18:03:31] \"POST /loadData HTTP/1.1\" 200 -\n"
     ]
    }
   ],
   "source": [
    "import http.server\n",
    "import json\n",
    "\n",
    "PORT = 3213\n",
    "JSON_PATH = \"index.json\"\n",
    "\n",
    "\n",
    "class CustomHandler(http.server.BaseHTTPRequestHandler):\n",
    "    def do_GET(self):\n",
    "        if self.path == '/':\n",
    "            self.send_response(200)\n",
    "            self.send_header('Content-type', 'text/html')\n",
    "            self.end_headers()\n",
    "            with open(\"index.html\", \"rb\") as f:\n",
    "                self.wfile.write(f.read())\n",
    "\n",
    "    def do_POST(self):\n",
    "        if self.path == '/loadData':\n",
    "            self.send_response(200)\n",
    "            self.send_header('Content-type', 'application/json')\n",
    "            self.end_headers()\n",
    "            \n",
    "            with open(JSON_PATH, \"r\", encoding=\"utf-8\") as f:\n",
    "                data = json.load(f)\n",
    "                self.wfile.write(json.dumps(data).encode('utf-8'))\n",
    "\n",
    "\n",
    "def run_server(port):\n",
    "    server_address = ('', port)\n",
    "    httpd = http.server.HTTPServer(server_address, CustomHandler)\n",
    "    print(f\"서버가 http://localhost:{port}/ 에서 실행 중입니다.\")\n",
    "    httpd.serve_forever()\n",
    "\n",
    "\n",
    "if __name__ == '__main__':\n",
    "    run_server(PORT)"
   ]
  }
 ],
 "metadata": {
  "kernelspec": {
   "display_name": "Python 3",
   "language": "python",
   "name": "python3"
  },
  "language_info": {
   "codemirror_mode": {
    "name": "ipython",
    "version": 3
   },
   "file_extension": ".py",
   "mimetype": "text/x-python",
   "name": "python",
   "nbconvert_exporter": "python",
   "pygments_lexer": "ipython3",
   "version": "3.12.0"
  }
 },
 "nbformat": 4,
 "nbformat_minor": 2
}
